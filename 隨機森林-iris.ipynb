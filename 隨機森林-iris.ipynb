{
  "nbformat": 4,
  "nbformat_minor": 0,
  "metadata": {
    "colab": {
      "provenance": [],
      "authorship_tag": "ABX9TyMaQAjvgyIs7+zR4T0cb0Ka",
      "include_colab_link": true
    },
    "kernelspec": {
      "name": "python3",
      "display_name": "Python 3"
    },
    "language_info": {
      "name": "python"
    }
  },
  "cells": [
    {
      "cell_type": "markdown",
      "metadata": {
        "id": "view-in-github",
        "colab_type": "text"
      },
      "source": [
        "<a href=\"https://colab.research.google.com/github/Zeng1201/MachineLearning/blob/main/%E9%9A%A8%E6%A9%9F%E6%A3%AE%E6%9E%97-iris.ipynb\" target=\"_parent\"><img src=\"https://colab.research.google.com/assets/colab-badge.svg\" alt=\"Open In Colab\"/></a>"
      ]
    },
    {
      "cell_type": "code",
      "execution_count": null,
      "metadata": {
        "colab": {
          "base_uri": "https://localhost:8080/"
        },
        "id": "j0ZnlKZmUh00",
        "outputId": "c77d3968-28e2-473a-fd2b-53bd5730a331"
      },
      "outputs": [
        {
          "output_type": "stream",
          "name": "stdout",
          "text": [
            "訓練資料正確率: 1.0\n",
            "測試資料正確率: 0.9555555555555556\n",
            "標準答案: [1 0 1 2 0 2 1 1 2 1 1 1 2 2 0 2 1 1 1 0 1 2 0 2 0 0 1 0 1 1 2 0 1 2 2 0 2\n",
            " 0 0 2 1 0 0 0 0]\n",
            "預測答案: [1 0 1 2 0 2 1 1 2 1 1 1 2 2 0 2 1 2 1 0 2 2 0 2 0 0 1 0 1 1 2 0 1 2 2 0 2\n",
            " 0 0 2 1 0 0 0 0]\n"
          ]
        }
      ],
      "source": [
        "from sklearn import tree\n",
        "from sklearn.datasets import load_iris\n",
        "from sklearn.model_selection import train_test_split\n",
        "\n",
        "#插入資料\n",
        "iris=load_iris()\n",
        "iris_data = iris.data\n",
        "iris_label = iris.target\n",
        "\n",
        "#切分訓練與測試資料\n",
        "train_data, test_data, train_label, test_label = train_test_split(iris_data, iris_label, test_size = 0.3)\n",
        "\n",
        "#建立分類器\n",
        "clf = tree.DecisionTreeClassifier()\n",
        "iris_clf = clf.fit(train_data, train_label)\n",
        "\n",
        "print(\"訓練資料正確率:\",clf.score(train_data,train_label)) \n",
        "print(\"測試資料正確率:\",clf.score(test_data,test_label))\n",
        "\n",
        "predict=clf.predict(test_data) \n",
        "print(\"標準答案:\",test_label) \n",
        "print(\"預測答案:\",predict)"
      ]
    }
  ]
}