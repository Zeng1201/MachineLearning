{
 "cells": [
  {
   "cell_type": "code",
   "execution_count": null,
   "metadata": {},
   "outputs": [],
   "source": [
    "from selenium import webdriver\n",
    "from selenium.webdriver.chrome.options import Options\n",
    "from selenium.webdriver.chrome.service import Service\n",
    "from selenium.webdriver.support import expected_conditions as EC\n",
    "from selenium.webdriver.support.ui import WebDriverWait\n",
    "from selenium.webdriver.common.by import By\n",
    "from fake_useragent import UserAgent\n",
    "import random\n",
    "#import string\n",
    "import time"
   ]
  },
  {
   "cell_type": "code",
   "execution_count": null,
   "metadata": {},
   "outputs": [],
   "source": [
    "options = Options() \n",
    "\n",
    "ua = UserAgent()\n",
    "userAgent = ua.random\n",
    "\n",
    "options.add_argument(f'user-agent={userAgent}')\n",
    "options.add_argument('--headless')  # 非本機執行，必須啟動Headless模式\n",
    "options.add_argument('--disable-gpu') # 關閉GPU 避免某些系統或是網頁出錯\n",
    "\n",
    "service = Service()\n",
    "driver = webdriver.Chrome(service=service, options=options)\n",
    "url = 'http://120.105.96.87/register.html'\n",
    "driver.get(url)\n"
   ]
  },
  {
   "cell_type": "code",
   "execution_count": null,
   "metadata": {},
   "outputs": [],
   "source": [
    "myid = driver.find_element(By.NAME, \"id\")\n",
    "myid.clear()\n",
    "myid.send_keys(\"B09090009\") # 請輸入你的學號\n",
    "\n",
    "myemail = driver.find_element(By.NAME, \"email\")\n",
    "myemail.clear()\n",
    "myemail.send_keys(\"B09090009@must.edu.tw\") # 請輸入你的email\n",
    "\n",
    "passwd = driver.find_element(By.NAME, \"pwd\")\n",
    "passwd.clear()\n",
    "passwd.send_keys(\"aa20011201\")  # 請輸入你要設定的登入密碼\n",
    "\n",
    "driver.get_screenshot_as_file('data1.png') # 註冊畫面\n",
    "mysubmit = WebDriverWait(driver, 5).until(EC.presence_of_element_located((By.NAME, \"submit\")))\n",
    "mysubmit.submit()\n",
    "time.sleep(1)\n",
    "driver.get_screenshot_as_file('data2.png') # 註冊結果畫面\n",
    "driver.close()"
   ]
  },
  {
   "cell_type": "code",
   "execution_count": null,
   "metadata": {},
   "outputs": [],
   "source": [
    "service1 = Service()\n",
    "driver1 = webdriver.Chrome(service=service1, options=options)\n",
    "url = 'http://120.105.96.87/index.html'\n",
    "driver1.get(url)\n",
    "myid = driver1.find_element(By.NAME, \"id\")\n",
    "myid.clear()\n",
    "myid.send_keys(\"B09090009\") # 請輸入你的學號\n",
    "passwd = driver1.find_element(By.NAME, \"pwd\")\n",
    "passwd.clear()\n",
    "passwd.send_keys(\"aa20011201\")  # 請輸入你設定的登入密碼\n",
    "driver1.get_screenshot_as_file('data3.png') # 登入畫面\n",
    "mysubmit = WebDriverWait(driver1, 5).until(EC.presence_of_element_located((By.NAME, \"submit\")))\n",
    "mysubmit.submit()\n",
    "time.sleep(1)\n",
    "driver1.get_screenshot_as_file('data4.png') # 登入結果畫面\n",
    "driver1.close()"
   ]
  }
 ],
 "metadata": {
  "kernelspec": {
   "display_name": "selenium-strGPMzh",
   "language": "python",
   "name": "python3"
  },
  "language_info": {
   "name": "python",
   "version": "3.10.6"
  },
  "orig_nbformat": 4,
  "vscode": {
   "interpreter": {
    "hash": "dafb4caba3e5f89619c69905b80dc803f6207f95843981285f26adcfa043af00"
   }
  }
 },
 "nbformat": 4,
 "nbformat_minor": 2
}
